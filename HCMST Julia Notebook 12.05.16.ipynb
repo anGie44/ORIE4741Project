{
 "cells": [
  {
   "cell_type": "code",
   "execution_count": 1,
   "metadata": {
    "collapsed": false
   },
   "outputs": [
    {
     "name": "stderr",
     "output_type": "stream",
     "text": [
      "WARNING: Method definition require(Symbol) in module Base at loading.jl:345 overwritten in module Main at /opt/julia_packages/.julia/v0.5/Requires/src/require.jl:12.\n"
     ]
    },
    {
     "data": {
      "text/plain": [
       "proxgrad_const (generic function with 1 method)"
      ]
     },
     "execution_count": 1,
     "metadata": {},
     "output_type": "execute_result"
    }
   ],
   "source": [
    "using DataFrames, PyPlot, ScikitLearn, LowRankModels\n",
    "include(\"proxgrad.jl\")"
   ]
  },
  {
   "cell_type": "markdown",
   "metadata": {},
   "source": [
    "First, we read the training set and the test set"
   ]
  },
  {
   "cell_type": "code",
   "execution_count": 2,
   "metadata": {
    "collapsed": false,
    "scrolled": true
   },
   "outputs": [],
   "source": [
    "data = readtable(\"HCMST_train_cleaned.csv\")\n",
    "datatest = readtable(\"HCMST_test_cleaned.csv\")\n",
    "\n",
    "datascale = readtable(\"HCMST_train_cleaned_scale.csv\")\n",
    "datatestscale = readtable(\"HCMST_test_cleaned_scale.csv\");"
   ]
  },
  {
   "cell_type": "markdown",
   "metadata": {},
   "source": [
    "Convert to proper typing and perform least squares using the backslack operator"
   ]
  },
  {
   "cell_type": "code",
   "execution_count": 3,
   "metadata": {
    "collapsed": false
   },
   "outputs": [],
   "source": [
    "Xtrain = [convert(Array{Float64}, data[:,4:116]) ones(2033)]\n",
    "ytrain = Array(data[:,117])\n",
    "Xtest = [convert(Array{Float64}, datatest[:,4:116]) ones(558)]\n",
    "ytest = Array(datatest[:,117])\n",
    "w = Xtrain\\ytrain;"
   ]
  },
  {
   "cell_type": "markdown",
   "metadata": {
    "collapsed": false
   },
   "source": [
    "Append an index to the w vecor and sort by the magnitude of w"
   ]
  },
  {
   "cell_type": "code",
   "execution_count": 4,
   "metadata": {
    "collapsed": false
   },
   "outputs": [
    {
     "data": {
      "text/plain": [
       "114×2 Array{Float64,2}:\n",
       " -0.805988  114.0\n",
       " -0.303333   27.0\n",
       " -0.300544   49.0\n",
       " -0.270978    8.0\n",
       " -0.2703     28.0\n",
       " -0.265135   10.0\n",
       " -0.261495    7.0\n",
       " -0.232354   29.0\n",
       " -0.230937   50.0\n",
       " -0.175185  113.0\n",
       " -0.173973   69.0\n",
       " -0.17383    52.0\n",
       " -0.170288   40.0\n",
       "  ⋮              \n",
       "  0.254454  106.0\n",
       "  0.313655   57.0\n",
       "  0.317657   24.0\n",
       "  0.343416   56.0\n",
       "  0.365173   70.0\n",
       "  0.390402   55.0\n",
       "  0.391177   65.0\n",
       "  0.428844   79.0\n",
       "  0.435176   63.0\n",
       "  0.461184   64.0\n",
       "  0.48882    80.0\n",
       "  0.584233   60.0"
      ]
     },
     "execution_count": 4,
     "metadata": {},
     "output_type": "execute_result"
    }
   ],
   "source": [
    "wsort = [w linspace(1, 114, 114)];\n",
    "sortrows(wsort,by=x->x[1])"
   ]
  },
  {
   "cell_type": "markdown",
   "metadata": {},
   "source": [
    "Using a scaled version of the dataset, convert to proper typing"
   ]
  },
  {
   "cell_type": "code",
   "execution_count": 5,
   "metadata": {
    "collapsed": false
   },
   "outputs": [],
   "source": [
    "Xscaledtrain = [convert(Array{Float64}, datascale[:,4:116]) ones(2033)]\n",
    "yscaledtrain = Array(datascale[:,117])\n",
    "Xscaledtest = [convert(Array{Float64}, datatestscale[:,4:116]) ones(558)]\n",
    "yscaledtest = Array(datatestscale[:,117]);"
   ]
  },
  {
   "cell_type": "markdown",
   "metadata": {},
   "source": [
    "Define the convergence history and run the proximal gradient method in an attempt to replicate least squares"
   ]
  },
  {
   "cell_type": "code",
   "execution_count": 8,
   "metadata": {
    "collapsed": false
   },
   "outputs": [],
   "source": [
    "ch = ConvergenceHistory(\"quad\")\n",
    "wls = proxgrad(QuadLoss(), ZeroReg(), Xscaledtrain, yscaledtrain, maxiters=25000, stepsize=1/(2*norm(Xscaledtrain)^2), ch=ch);"
   ]
  },
  {
   "cell_type": "markdown",
   "metadata": {},
   "source": [
    "Divide each w by the scaling factor applied to standardize the magnitude of the feature space, append an index and sort by the magnitude of w"
   ]
  },
  {
   "cell_type": "code",
   "execution_count": 9,
   "metadata": {
    "collapsed": false
   },
   "outputs": [
    {
     "data": {
      "text/plain": [
       "114×2 Array{Float64,2}:\n",
       " -0.467789  114.0\n",
       " -0.305377   49.0\n",
       " -0.237497   50.0\n",
       " -0.212058    8.0\n",
       " -0.210243   10.0\n",
       " -0.205046    7.0\n",
       " -0.19605    40.0\n",
       " -0.188164   27.0\n",
       " -0.18126    39.0\n",
       " -0.180143   52.0\n",
       " -0.176104  113.0\n",
       " -0.175693   45.0\n",
       " -0.174963   69.0\n",
       "  ⋮              \n",
       "  0.220567   80.0\n",
       "  0.237939    9.0\n",
       "  0.246721   56.0\n",
       "  0.251194  105.0\n",
       "  0.262101  106.0\n",
       "  0.293586   55.0\n",
       "  0.315025   24.0\n",
       "  0.351638   65.0\n",
       "  0.365042   70.0\n",
       "  0.396419   63.0\n",
       "  0.422489   64.0\n",
       "  0.583277   60.0"
      ]
     },
     "execution_count": 9,
     "metadata": {},
     "output_type": "execute_result"
    }
   ],
   "source": [
    "wls[1] = wls[1] / 10\n",
    "wls[2] = wls[2] / 10\n",
    "wls[5] = wls[5] / 10\n",
    "wls[6] = wls[6] / 100\n",
    "wls[22] = wls[22] / 10\n",
    "wls[54] = wls[54] / 10\n",
    "wls[58] = wls[58] / 100\n",
    "wls[59] = wls[59] / 10\n",
    "wls[61] = wls[61] / 100\n",
    "wls[62] = wls[62] / 100\n",
    "wls[110] = wls[110] / 10000\n",
    "wls[112] = wls[112] / 100\n",
    "wls[113] = wls[113] / 10\n",
    "\n",
    "wlssort = [wls linspace(1, 114, 114)]\n",
    "sortrows(wlssort,by=x->x[1])"
   ]
  },
  {
   "cell_type": "markdown",
   "metadata": {},
   "source": [
    "Plot the convergence history to show that the proximal gradient method is converging to a solution"
   ]
  },
  {
   "cell_type": "code",
   "execution_count": 9,
   "metadata": {
    "collapsed": false
   },
   "outputs": [
    {
     "data": {
      "image/png": "[encoded data removed]",
      "text/plain": [
       "PyPlot.Figure(PyObject <matplotlib.figure.Figure object at 0x7f9b74f1f6d0>)"
      ]
     },
     "metadata": {},
     "output_type": "display_data"
    },
    {
     "data": {
      "text/plain": [
       "1-element Array{Any,1}:\n",
       " PyObject <matplotlib.lines.Line2D object at 0x7f9b727ac450>"
      ]
     },
     "execution_count": 9,
     "metadata": {},
     "output_type": "execute_result"
    }
   ],
   "source": [
    "plot(ch.objective)"
   ]
  },
  {
   "cell_type": "markdown",
   "metadata": {},
   "source": [
    "Define the convergence history and run the proximal gradient method with hinge loss and a quadratic regularizer"
   ]
  },
  {
   "cell_type": "code",
   "execution_count": 10,
   "metadata": {
    "collapsed": false
   },
   "outputs": [],
   "source": [
    "ch = ConvergenceHistory(\"hinge\")\n",
    "whinge = proxgrad(HingeLoss(), QuadReg(), Xscaledtrain, yscaledtrain, maxiters=25000, stepsize=1/(2*norm(Xscaledtrain)^2),ch = ch);"
   ]
  },
  {
   "cell_type": "markdown",
   "metadata": {},
   "source": [
    "Divide each w by the scaling factor applied to standardize the magnitude of the feature space, append an index and sort by the magnitude of w"
   ]
  },
  {
   "cell_type": "code",
   "execution_count": 11,
   "metadata": {
    "collapsed": false
   },
   "outputs": [
    {
     "data": {
      "text/plain": [
       "114×2 Array{Float64,2}:\n",
       " -0.442946   114.0\n",
       " -0.340543     8.0\n",
       " -0.223227    40.0\n",
       " -0.214861     7.0\n",
       " -0.205457    80.0\n",
       " -0.199758    50.0\n",
       " -0.176779    12.0\n",
       " -0.174546    27.0\n",
       " -0.169357    79.0\n",
       " -0.159105    41.0\n",
       " -0.158992    43.0\n",
       " -0.154474    28.0\n",
       " -0.15129     57.0\n",
       "  ⋮               \n",
       "  0.0592015   18.0\n",
       "  0.0605512   76.0\n",
       "  0.061102    48.0\n",
       "  0.0717213   68.0\n",
       "  0.0739467  105.0\n",
       "  0.0748563  106.0\n",
       "  0.0827893   24.0\n",
       "  0.087202    19.0\n",
       "  0.136938    74.0\n",
       "  0.404509     9.0\n",
       "  0.66604     70.0\n",
       "  1.24941     60.0"
      ]
     },
     "execution_count": 11,
     "metadata": {},
     "output_type": "execute_result"
    }
   ],
   "source": [
    "whinge[1] = whinge[1] / 10\n",
    "whinge[2] = whinge[2] / 10\n",
    "whinge[5] = whinge[5] / 10\n",
    "whinge[6] = whinge[6] / 100\n",
    "whinge[22] = whinge[22] / 10\n",
    "whinge[54] = whinge[54] / 10\n",
    "whinge[58] = whinge[58] / 100\n",
    "whinge[59] = whinge[59] / 10\n",
    "whinge[61] = whinge[61] / 100\n",
    "whinge[62] = whinge[62] / 100\n",
    "whinge[110] = whinge[110] / 10000\n",
    "whinge[112] = whinge[112] / 100\n",
    "whinge[113] = whinge[113] / 10\n",
    "\n",
    "whingesort = [whinge linspace(1, 114, 114)]\n",
    "sortrows(whingesort,by=x->x[1])"
   ]
  },
  {
   "cell_type": "markdown",
   "metadata": {},
   "source": [
    "Plot the convergence history to show that the proximal gradient method is converging to a solution"
   ]
  },
  {
   "cell_type": "code",
   "execution_count": 12,
   "metadata": {
    "collapsed": false,
    "scrolled": false
   },
   "outputs": [
    {
     "data": {
      "image/png": "[encoded data removed]",
      "text/plain": [
       "PyPlot.Figure(PyObject <matplotlib.figure.Figure object at 0x7f03002ac6d0>)"
      ]
     },
     "metadata": {},
     "output_type": "display_data"
    },
    {
     "data": {
      "text/plain": [
       "1-element Array{Any,1}:\n",
       " PyObject <matplotlib.lines.Line2D object at 0x7f02f84b0450>"
      ]
     },
     "execution_count": 12,
     "metadata": {},
     "output_type": "execute_result"
    }
   ],
   "source": [
    "plot(ch.objective)"
   ]
  },
  {
   "cell_type": "markdown",
   "metadata": {},
   "source": [
    "Define the convergence history and run the proximal gradient method with logistic loss and a quadratic regularizer"
   ]
  },
  {
   "cell_type": "code",
   "execution_count": 13,
   "metadata": {
    "collapsed": false
   },
   "outputs": [],
   "source": [
    "ch = ConvergenceHistory(\"logistic\")\n",
    "wlogistic = proxgrad(LogisticLoss(), QuadReg(), Xscaledtrain, yscaledtrain, maxiters=25000, stepsize=1/(2*norm(Xscaledtrain)^2),ch = ch);"
   ]
  },
  {
   "cell_type": "markdown",
   "metadata": {},
   "source": [
    "Divide each w by the scaling factor applied to standardize the magnitude of the feature space, append an index and sort by the magnitude of w"
   ]
  },
  {
   "cell_type": "code",
   "execution_count": 14,
   "metadata": {
    "collapsed": false
   },
   "outputs": [
    {
     "data": {
      "text/plain": [
       "114×2 Array{Float64,2}:\n",
       " -1.00373     7.0\n",
       " -0.505496  114.0\n",
       " -0.489241   50.0\n",
       " -0.482253   72.0\n",
       " -0.458735   71.0\n",
       " -0.452252   49.0\n",
       " -0.364681   53.0\n",
       " -0.347825   98.0\n",
       " -0.325241   43.0\n",
       " -0.297158   73.0\n",
       " -0.290137   27.0\n",
       " -0.260078   39.0\n",
       " -0.255858   41.0\n",
       "  ⋮              \n",
       "  0.325298   48.0\n",
       "  0.333458   97.0\n",
       "  0.35369    18.0\n",
       "  0.40721    76.0\n",
       "  0.413175  105.0\n",
       "  0.495034  101.0\n",
       "  0.520703  106.0\n",
       "  0.673775   68.0\n",
       "  0.684925   24.0\n",
       "  0.789945    9.0\n",
       "  0.940805   70.0\n",
       "  1.46792    60.0"
      ]
     },
     "execution_count": 14,
     "metadata": {},
     "output_type": "execute_result"
    }
   ],
   "source": [
    "wlogistic[1] = wlogistic[1] / 10\n",
    "wlogistic[2] = wlogistic[2] / 10\n",
    "wlogistic[5] = wlogistic[5] / 10\n",
    "wlogistic[6] = wlogistic[6] / 100\n",
    "wlogistic[22] = wlogistic[22] / 10\n",
    "wlogistic[54] = wlogistic[54] / 10\n",
    "wlogistic[58] = wlogistic[58] / 100\n",
    "wlogistic[59] = wlogistic[59] / 10\n",
    "wlogistic[61] = wlogistic[61] / 100\n",
    "wlogistic[62] = wlogistic[62] / 100\n",
    "wlogistic[110] = wlogistic[110] / 10000\n",
    "wlogistic[112] = wlogistic[112] / 100\n",
    "wlogistic[113] = wlogistic[113] / 10\n",
    "\n",
    "wlogisticsort = [wlogistic linspace(1, 114, 114)]\n",
    "sortrows(wlogisticsort,by=x->x[1])"
   ]
  },
  {
   "cell_type": "markdown",
   "metadata": {},
   "source": [
    "Plot the convergence history to show that the proximal gradient method is converging to a solution"
   ]
  },
  {
   "cell_type": "code",
   "execution_count": 15,
   "metadata": {
    "collapsed": false
   },
   "outputs": [
    {
     "data": {
      "image/png": "[encoded data removed]",
      "text/plain": [
       "PyPlot.Figure(PyObject <matplotlib.figure.Figure object at 0x7f02f84860d0>)"
      ]
     },
     "metadata": {},
     "output_type": "display_data"
    },
    {
     "data": {
      "text/plain": [
       "1-element Array{Any,1}:\n",
       " PyObject <matplotlib.lines.Line2D object at 0x7f02f8334f50>"
      ]
     },
     "execution_count": 15,
     "metadata": {},
     "output_type": "execute_result"
    }
   ],
   "source": [
    "plot(ch.objective)"
   ]
  },
  {
   "cell_type": "markdown",
   "metadata": {},
   "source": [
    "Multiply the feature space of the training set by the corresponding values of w to predict the response for each row"
   ]
  },
  {
   "cell_type": "code",
   "execution_count": 16,
   "metadata": {
    "collapsed": false
   },
   "outputs": [],
   "source": [
    "yhatLS = Xtrain*w\n",
    "yhatHinge = Xscaledtrain*whinge\n",
    "yhatLogistic = Xscaledtrain*wlogistic;"
   ]
  },
  {
   "cell_type": "markdown",
   "metadata": {},
   "source": [
    "Calculate the misclassification rate for each method on the training set and the test set"
   ]
  },
  {
   "cell_type": "code",
   "execution_count": 25,
   "metadata": {
    "collapsed": false
   },
   "outputs": [
    {
     "name": "stdout",
     "output_type": "stream",
     "text": [
      "percentmisclassifiedHingeTrain = 0.16527299557304476\n"
     ]
    }
   ],
   "source": [
    "misclassifiedHingeTrain = 0 \n",
    "for i in 1:2033\n",
    "    if sign(yhatHinge[i]) != ytrain[i]\n",
    "        misclassifiedHingeTrain = misclassifiedHingeTrain + 1\n",
    "    end\n",
    "end\n",
    "percentmisclassifiedHingeTrain = misclassifiedHingeTrain/2033\n",
    "@show percentmisclassifiedHingeTrain;"
   ]
  },
  {
   "cell_type": "code",
   "execution_count": 26,
   "metadata": {
    "collapsed": false
   },
   "outputs": [
    {
     "name": "stdout",
     "output_type": "stream",
     "text": [
      "percentmisclassifiedHingeTest = 0.34767025089605735\n"
     ]
    }
   ],
   "source": [
    "misclassifiedHingeTest = 0 \n",
    "for i in 1:558\n",
    "    if sign(yhatHinge[i]) != ytest[i]\n",
    "        misclassifiedHingeTest = misclassifiedHingeTest + 1\n",
    "    end\n",
    "end\n",
    "percentmisclassifiedHingeTest = misclassifiedHingeTest/558\n",
    "@show percentmisclassifiedHingeTest;"
   ]
  },
  {
   "cell_type": "code",
   "execution_count": 27,
   "metadata": {
    "collapsed": false
   },
   "outputs": [
    {
     "name": "stdout",
     "output_type": "stream",
     "text": [
      "percentmisclassifiedLogisticTrain = 0.20708312838170193\n"
     ]
    }
   ],
   "source": [
    "misclassifiedLogisticTrain = 0 \n",
    "for i in 1:2033\n",
    "    if sign(yhatLogistic[i]) != ytrain[i]\n",
    "        misclassifiedLogisticTrain = misclassifiedLogisticTrain + 1\n",
    "    end\n",
    "end\n",
    "percentmisclassifiedLogisticTrain = misclassifiedLogisticTrain/2033\n",
    "@show percentmisclassifiedLogisticTrain;"
   ]
  },
  {
   "cell_type": "code",
   "execution_count": 28,
   "metadata": {
    "collapsed": false
   },
   "outputs": [
    {
     "name": "stdout",
     "output_type": "stream",
     "text": [
      "percentmisclassifiedLogisticTrain = 0.4103942652329749\n"
     ]
    }
   ],
   "source": [
    "misclassifiedLogisticTest = 0 \n",
    "for i in 1:558\n",
    "    if sign(yhatLogistic[i]) != ytest[i]\n",
    "        misclassifiedLogisticTest = misclassifiedLogisticTest + 1\n",
    "    end\n",
    "end\n",
    "percentmisclassifiedLogisticTrain = misclassifiedLogisticTest/558\n",
    "@show percentmisclassifiedLogisticTrain;"
   ]
  },
  {
   "cell_type": "code",
   "execution_count": 29,
   "metadata": {
    "collapsed": false
   },
   "outputs": [
    {
     "name": "stdout",
     "output_type": "stream",
     "text": [
      "percentmisclassifiedLSTrain = 0.13428430890309886\n"
     ]
    }
   ],
   "source": [
    "misclassifiedLSTrain = 0 \n",
    "for i in 1:2033\n",
    "    if sign(yhatLS[i]) != ytrain[i]\n",
    "        misclassifiedLSTrain = misclassifiedLSTrain + 1\n",
    "    end\n",
    "end\n",
    "percentmisclassifiedLSTrain = misclassifiedLSTrain/2033\n",
    "@show percentmisclassifiedLSTrain;"
   ]
  },
  {
   "cell_type": "code",
   "execution_count": 30,
   "metadata": {
    "collapsed": false
   },
   "outputs": [
    {
     "name": "stdout",
     "output_type": "stream",
     "text": [
      "percentmisclassifiedLSTest = 0.2974910394265233\n"
     ]
    }
   ],
   "source": [
    "misclassifiedLSTest = 0 \n",
    "for i in 1:558\n",
    "    if sign(yhatLS[i]) != ytest[i]\n",
    "        misclassifiedLSTest = misclassifiedLSTest + 1\n",
    "    end\n",
    "end\n",
    "percentmisclassifiedLSTest = misclassifiedLSTest/558\n",
    "@show percentmisclassifiedLSTest;"
   ]
  }
 ],
 "metadata": {
  "kernelspec": {
   "display_name": "Julia 0.5.0",
   "language": "julia",
   "name": "julia-0.5"
  },
  "language_info": {
   "file_extension": ".jl",
   "mimetype": "application/julia",
   "name": "julia",
   "version": "0.5.0"
  }
 },
 "nbformat": 4,
 "nbformat_minor": 0
}
