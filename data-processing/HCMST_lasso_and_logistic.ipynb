{
 "cells": [
  {
   "cell_type": "code",
   "execution_count": 53,
   "metadata": {
    "collapsed": false
   },
   "outputs": [
    {
     "name": "stdout",
     "output_type": "stream",
     "text": [
      "Logistic Regression Classifier Error Rate: 0.15591\n",
      "Lasso Regression Error Rate: 0.17025\n"
     ]
    }
   ],
   "source": [
    "import pandas as pd\n",
    "import numpy as np\n",
    "from sklearn.svm import LinearSVC\n",
    "from sklearn.ensemble import RandomForestClassifier\n",
    "from sklearn.model_selection import cross_val_score\n",
    "from sklearn.linear_model import LogisticRegressionCV\n",
    "from sklearn import linear_model\n",
    "from sklearn.cross_validation import KFold\n",
    "\n",
    "def importAndClean():\n",
    "    df_train = pd.read_csv(\"HCMST_train_clean.csv\", header=0, low_memory=False)\n",
    "    df_test = pd.read_csv(\"HCMST_test_clean.csv\", header=0, low_memory=False)\n",
    "        \n",
    "    x_train = df_train\n",
    "    x_train = x_train.drop(x_train.columns[[0,1,2,118,119]], axis = 1).values\n",
    "    \n",
    "    y_train = df_train['Breakup binary'].values\n",
    "\n",
    "    x_test = df_test\n",
    "    x_test = x_test.drop(x_test.columns[[0,1,2,118,119]], axis=1).values\n",
    "    y_test = df_test['Breakup binary'].values\n",
    "\n",
    "    return x_train, y_train, x_test, y_test\n",
    "\n",
    "def applyClassifier(type,x,y,x_test):\n",
    "    # Fit and Predict on New Data\n",
    "    fold = KFold(len(y), n_folds=5, shuffle=True, random_state=777)\n",
    "    if type == 'logistic':\n",
    "        regr = LogisticRegressionCV(Cs=list(np.power(10.0, np.arange(-10, 10)))\n",
    "        ,penalty='l2'\n",
    "        ,scoring='roc_auc'\n",
    "        ,cv=fold\n",
    "        ,random_state=777\n",
    "        ,max_iter=10000\n",
    "        ,fit_intercept=True\n",
    "        ,solver='newton-cg'\n",
    "        ,tol=10)\n",
    "        pred = regr.fit(x,y).predict(x_test)    \n",
    "        return pred\n",
    "    elif type == 'lasso':\n",
    "        clf = linear_model.Lasso(alpha=0.01)\n",
    "        pred = clf.fit(x,y).predict(x_test)\n",
    "#         print (clf.coef_)\n",
    "#         print (clf.intercept_)\n",
    "        return pred\n",
    "\n",
    "def main():\n",
    "    x_train, y_train, x_test, y_test = importAndClean()\n",
    "\n",
    "#     pred_rf = applyClassifier('forest', x_train, y_train, x_test)\n",
    "    pred_log = applyClassifier('logistic', x_train, y_train, x_test)\n",
    "    pred_lasso = applyClassifier('lasso', x_train, y_train, x_test)\n",
    "    pred_lasso[pred_lasso >= 0.5] = 1\n",
    "    pred_lasso[pred_lasso < 0.5] = 0\n",
    "    \n",
    "#     print(\"Classifier Accuracy: %.2f\" % np.mean(y_test == pred_mc))\n",
    "#     print(\"Classifier Accuracy: %.2f\" % np.mean(y_test == pred_rf))\n",
    "    print(\"Logistic Regression Classifier Error Rate: %.5f\" % np.mean(y_test != pred_log))\n",
    "    print(\"Lasso Regression Error Rate: %.5f\" % np.mean(y_test != pred_lasso))\n",
    "    \n",
    "\n",
    "if __name__ == \"__main__\":\n",
    "    main()\n",
    "\n"
   ]
  },
  {
   "cell_type": "code",
   "execution_count": null,
   "metadata": {
    "collapsed": true
   },
   "outputs": [],
   "source": []
  }
 ],
 "metadata": {
  "kernelspec": {
   "display_name": "Python 3",
   "language": "python",
   "name": "python3"
  },
  "language_info": {
   "codemirror_mode": {
    "name": "ipython",
    "version": 3
   },
   "file_extension": ".py",
   "mimetype": "text/x-python",
   "name": "python",
   "nbconvert_exporter": "python",
   "pygments_lexer": "ipython3",
   "version": "3.5.2"
  }
 },
 "nbformat": 4,
 "nbformat_minor": 1
}
