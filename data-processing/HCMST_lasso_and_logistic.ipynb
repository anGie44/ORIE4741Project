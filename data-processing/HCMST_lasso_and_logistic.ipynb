{
 "cells": [
  {
   "cell_type": "code",
   "execution_count": null,
   "metadata": {
    "collapsed": false
   },
   "outputs": [],
   "source": [
    "import pandas as pd\n",
    "import numpy as np\n",
    "from sklearn.model_selection import cross_val_score\n",
    "from sklearn.linear_model import LogisticRegressionCV\n",
    "from sklearn import linear_model\n",
    "from sklearn.cross_validation import KFold\n",
    "from sklearn import svm\n",
    "\n",
    "\n",
    "def importAndClean():\n",
    "    df_train = pd.read_csv(\"HCMST_train_cleaned.csv\", header=0, low_memory=False)\n",
    "    y_train = df_train['Breakup_binary'].values\n",
    "    df_train = df_train.drop(df_train.columns[[0,1,2,116]], axis = 1)\n",
    "    df_test = pd.read_csv(\"HCMST_test_cleaned.csv\", header=0, low_memory=False)\n",
    "    y_test = df_test['Breakup_binary'].values\n",
    "    df_test = df_test.drop(df_test.columns[[0,1,2,116]], axis=1)\n",
    "\n",
    "    x_train = df_train.values\n",
    "    x_test = df_test.values\n",
    "   \n",
    "    global col_headers\n",
    "    col_headers = list(df_train.columns.values)\n",
    "    \n",
    "    return x_train, y_train, x_test, y_test\n",
    "\n",
    "def applyClassifier(type,x,y,x_test):\n",
    "    # Fit and Predict on New Data\n",
    "    fold = KFold(len(y), n_folds=5, shuffle=True, random_state=777)\n",
    "    if type == 'logistic':\n",
    "        regr = LogisticRegressionCV(Cs=list(np.power(10.0, np.arange(-10, 10)))\n",
    "        ,penalty='l2'\n",
    "        ,scoring='roc_auc'\n",
    "        ,cv=fold\n",
    "        ,random_state=777\n",
    "        ,max_iter=10000\n",
    "        ,fit_intercept=True\n",
    "        ,solver='newton-cg'\n",
    "        ,tol=10)\n",
    "        pred = regr.fit(x,y).predict(x_test)  \n",
    "        return pred, regr.coef_\n",
    "    elif type == 'lasso':\n",
    "        clf = linear_model.LassoCV(cv=fold, random_state=777, tol=10)\n",
    "        pred = clf.fit(x,y).predict(x_test)\n",
    "        return pred, clf.coef_\n",
    "    elif type == 'svm':\n",
    "        clf = svm.SVC(kernel='linear')\n",
    "        pred = clf.fit(x,y).predict(x_test)\n",
    "        return pred, clf.coef_\n",
    "\n",
    "def main():\n",
    "    x_train, y_train, x_test, y_test = importAndClean()\n",
    "\n",
    "    pred_log, log_coef_matrix = applyClassifier('logistic', x_train, y_train, x_test)\n",
    "    pred_lasso, lasso_coef_matrix = applyClassifier('lasso', x_train, y_train, x_test)\n",
    "    pred_svm, svm_coef_matrix = applyClassifier('svm', x_train, y_train, x_test)\n",
    "    pred_lasso[pred_lasso >= 0.5] = 1\n",
    "    pred_lasso[pred_lasso < 0.5] = -1\n",
    "    \n",
    "    print(\"Logistic Regression Classifier Error Rate: %.5f\" % np.mean(y_test != pred_log))\n",
    "    print(\"Lasso Regression Error Rate: %.5f\" % np.mean(y_test != pred_lasso))\n",
    "    print(\"SVM Error Rate: %.5f\" % np.mean(y_test != pred_svm))\n",
    "\n",
    "    \n",
    "    nonzero_lassocoef_names = [col_headers[j] for j in [i for i in range(len(lasso_coef_matrix)) if lasso_coef_matrix[i] != 0]]\n",
    "    nonzero_lasso_coef = [lasso_coef_matrix[j] for j in [i for i in range(len(lasso_coef_matrix)) if lasso_coef_matrix[i] !=0]]\n",
    "    print (\"Lasso Regression Non-Zero Features (n = %d):\" % len(nonzero_lassocoef_names))\n",
    "    for name, val in zip(nonzero_lassocoef_names, range(len(nonzero_lasso_coef))):\n",
    "        print (\"\\t%s: %.6f\" % (name, nonzero_lasso_coef[val]))\n",
    "    \n",
    "    print (\"\\nLogistic Regression Coeffient Matrix:\")\n",
    "    print (log_coef_matrix)\n",
    "    \n",
    "    print (\"\\nLasso Regression Coefficient Matrix:\")\n",
    "    print(lasso_coef_matrix)\n",
    "    \n",
    "    \n",
    "        \n",
    "if __name__ == \"__main__\":\n",
    "    main()\n",
    "\n"
   ]
  },
  {
   "cell_type": "code",
   "execution_count": null,
   "metadata": {
    "collapsed": false
   },
   "outputs": [],
   "source": []
  },
  {
   "cell_type": "code",
   "execution_count": null,
   "metadata": {
    "collapsed": true
   },
   "outputs": [],
   "source": []
  }
 ],
 "metadata": {
  "kernelspec": {
   "display_name": "Python 3",
   "language": "python",
   "name": "python3"
  },
  "language_info": {
   "codemirror_mode": {
    "name": "ipython",
    "version": 3
   },
   "file_extension": ".py",
   "mimetype": "text/x-python",
   "name": "python",
   "nbconvert_exporter": "python",
   "pygments_lexer": "ipython3",
   "version": "3.5.2"
  }
 },
 "nbformat": 4,
 "nbformat_minor": 1
}
